{
 "cells": [
  {
   "cell_type": "markdown",
   "metadata": {
    "id": "lXlNjNPrrClK"
   },
   "source": [
    "## **Project Selection Report - Python Notebook**\n",
    "\n",
    "##### Team : 1) Mitali Tavildar   \n",
    "#####           2) Shefali Luley\n"
   ]
  },
  {
   "cell_type": "markdown",
   "metadata": {
    "id": "5fuN6Ceji7NN"
   },
   "source": [
    "### **Introduction:** \n",
    "- The data which will be utilized throughout this project is of Groceries \n",
    "dataset.   \n",
    "- There are 38,765 rows in the dataset that contain purchase orders made by customers at grocery stores.  \n",
    "\n",
    "- The following dataset is available on Kaggle: https://www.kaggle.com/datasets/heeraldedhia/groceries-dataset\n",
    "\n",
    "\n",
    "\n"
   ]
  },
  {
   "cell_type": "code",
   "execution_count": 1,
   "metadata": {
    "id": "OmKFAwnQitdy"
   },
   "outputs": [
    {
     "ename": "ModuleNotFoundError",
     "evalue": "No module named 'missingno'",
     "output_type": "error",
     "traceback": [
      "\u001b[0;31m---------------------------------------------------------------------------\u001b[0m",
      "\u001b[0;31mModuleNotFoundError\u001b[0m                       Traceback (most recent call last)",
      "Input \u001b[0;32mIn [1]\u001b[0m, in \u001b[0;36m<cell line: 11>\u001b[0;34m()\u001b[0m\n\u001b[1;32m      9\u001b[0m \u001b[38;5;28;01mimport\u001b[39;00m \u001b[38;5;21;01mnumpy\u001b[39;00m \u001b[38;5;28;01mas\u001b[39;00m \u001b[38;5;21;01mnp\u001b[39;00m\n\u001b[1;32m     10\u001b[0m \u001b[38;5;28;01mimport\u001b[39;00m \u001b[38;5;21;01mpandas\u001b[39;00m \u001b[38;5;28;01mas\u001b[39;00m \u001b[38;5;21;01mpd\u001b[39;00m\n\u001b[0;32m---> 11\u001b[0m \u001b[38;5;28;01mimport\u001b[39;00m \u001b[38;5;21;01mmissingno\u001b[39;00m \u001b[38;5;28;01mas\u001b[39;00m \u001b[38;5;21;01mmsno\u001b[39;00m\n\u001b[1;32m     13\u001b[0m \u001b[38;5;66;03m#import visualization packages\u001b[39;00m\n\u001b[1;32m     15\u001b[0m \u001b[38;5;28;01mimport\u001b[39;00m \u001b[38;5;21;01mmatplotlib\u001b[39;00m\n",
      "\u001b[0;31mModuleNotFoundError\u001b[0m: No module named 'missingno'"
     ]
    }
   ],
   "source": [
    "#loading all the important libraries\n",
    "\n",
    "import warnings \n",
    "warnings.filterwarnings('ignore')\n",
    "\n",
    "# import basic packages\n",
    "\n",
    "import os\n",
    "import numpy as np\n",
    "import pandas as pd\n",
    "import missingno as msno\n",
    "\n",
    "#import visualization packages\n",
    "\n",
    "import matplotlib\n",
    "import matplotlib.pyplot as plt\n",
    "import seaborn as sns\n",
    "import plotly.express as px\n",
    "import plotly.graph_objects as go\n",
    "%matplotlib inline\n",
    "import datetime as dt"
   ]
  },
  {
   "cell_type": "code",
   "execution_count": null,
   "metadata": {
    "colab": {
     "base_uri": "https://localhost:8080/"
    },
    "id": "EUNLdhlUot6X",
    "outputId": "e79180cf-f763-4a53-c965-9c3936986071"
   },
   "outputs": [],
   "source": [
    "from google.colab import drive\n",
    "drive.mount('/content/drive')"
   ]
  },
  {
   "cell_type": "code",
   "execution_count": null,
   "metadata": {
    "id": "HWYe7wRIi6Ns"
   },
   "outputs": [],
   "source": [
    "# load the groceries.csv into a DataFrame\n",
    "df = pd.read_csv('/content/drive/MyDrive/Usable AI/Groceries Dataset/Groceries_dataset.csv')"
   ]
  },
  {
   "cell_type": "code",
   "execution_count": null,
   "metadata": {
    "colab": {
     "base_uri": "https://localhost:8080/",
     "height": 423
    },
    "id": "8y-0g9sKi6Pu",
    "outputId": "45c5910f-ea16-476b-f453-3bc6430a7dd3"
   },
   "outputs": [],
   "source": [
    "df"
   ]
  },
  {
   "cell_type": "code",
   "execution_count": null,
   "metadata": {
    "colab": {
     "base_uri": "https://localhost:8080/",
     "height": 300
    },
    "id": "4LNLU35ii6Rv",
    "outputId": "ce959283-0dca-447d-fc47-741e10cbf8d9"
   },
   "outputs": [],
   "source": [
    "df.describe()"
   ]
  },
  {
   "cell_type": "code",
   "execution_count": null,
   "metadata": {
    "colab": {
     "base_uri": "https://localhost:8080/"
    },
    "id": "IHBIu5I1i6UN",
    "outputId": "bb217421-30f6-494e-c522-19308a3a6763"
   },
   "outputs": [],
   "source": [
    "df.info()"
   ]
  },
  {
   "cell_type": "markdown",
   "metadata": {
    "id": "dgUJvfm756Si"
   },
   "source": [
    "### **Data Preprocessing and Cleaning**"
   ]
  },
  {
   "cell_type": "markdown",
   "metadata": {
    "id": "rnRP96rD46pi"
   },
   "source": [
    "##### Creating a column in the dataset to group by the described items into a categories "
   ]
  },
  {
   "cell_type": "code",
   "execution_count": null,
   "metadata": {
    "colab": {
     "base_uri": "https://localhost:8080/"
    },
    "id": "xn9bwvG_15YD",
    "outputId": "6f82acab-b740-4b0f-bd03-68109091ce11"
   },
   "outputs": [],
   "source": [
    "#identifying the unique items\n",
    "len(df['itemDescription'].unique())"
   ]
  },
  {
   "cell_type": "code",
   "execution_count": null,
   "metadata": {
    "id": "2IcLo5SK2IB1"
   },
   "outputs": [],
   "source": [
    "#Creating a category column\n",
    "df['Category'] = ''"
   ]
  },
  {
   "cell_type": "markdown",
   "metadata": {
    "id": "TNw7vZTbzbcX"
   },
   "source": [
    "##### Adding the data in different categories "
   ]
  },
  {
   "cell_type": "code",
   "execution_count": null,
   "metadata": {
    "id": "tC1GIJ_F308B"
   },
   "outputs": [],
   "source": [
    "df.loc[df[\"itemDescription\"].str.contains(\"fruit\"), \"Category\"] = \"Fruits\"\n",
    "df.loc[df[\"itemDescription\"].str.contains(\"milk\"), \"Category\"] = \"Dairy\"\n",
    "df.loc[df[\"itemDescription\"].str.contains(\"candy\"), \"Category\"] = \"Sweets\"\n",
    "df.loc[df[\"itemDescription\"].str.contains(\"cake\"), \"Category\"] = \"Sweets\"\n",
    "df.loc[df[\"itemDescription\"].str.contains(\"food\"), \"Category\"] = \"Food\"\n",
    "df.loc[df[\"itemDescription\"].str.contains(\"vegetable\"), \"Category\"] = \"Vegetables\"\n",
    "df.loc[df[\"itemDescription\"].str.contains(\"cheese\"), \"Category\"] = \"Dairy\"\n",
    "df.loc[df[\"itemDescription\"].str.contains(\"care\"), \"Category\"] = \"Care\"\n",
    "df.loc[df[\"itemDescription\"].str.contains(\"buns\"), \"Category\"] = \"Bakery\"\n",
    "df.loc[df[\"itemDescription\"].str.contains(\"cleaner\"), \"Category\"] = \"Cleaning supplies\"\n",
    "df.loc[df[\"itemDescription\"].str.contains(\"fish\"), \"Category\"] = \"Meat\"\n",
    "df.loc[df[\"itemDescription\"].str.contains(\"chicken\"),\"Category\"]=\"Meat\""
   ]
  },
  {
   "cell_type": "code",
   "execution_count": null,
   "metadata": {
    "id": "ouBoTAkJ5zYQ"
   },
   "outputs": [],
   "source": [
    "df.loc[df[\"itemDescription\"].str.contains(\"beef\"),\"Category\"]=\"Meat\"\n",
    "df.loc[df[\"itemDescription\"].str.contains(\"chocolate\"),\"Category\"]=\"Sweets\"\n",
    "df.loc[df[\"itemDescription\"].str.contains(\"plants\"),\"Category\"]=\"Plants\"\n",
    "df.loc[df[\"itemDescription\"].str.contains(\"frankfurter\"),\"Category\"]=\"Meat\"\n",
    "df.loc[df[\"itemDescription\"].str.contains(\"butter\"),\"Category\"]=\"Condiments\"\n",
    "df.loc[df[\"itemDescription\"].str.contains(\"sausage\"),\"Category\"]=\"Meat\"\n",
    "df.loc[df[\"itemDescription\"].str.contains(\"yogurt\"),\"Category\"]=\"Dairy\"\n",
    "df.loc[df[\"itemDescription\"].str.contains(\"berries\"),\"Category\"]=\"Fruits\"\n",
    "df.loc[df[\"itemDescription\"].str.contains(\"coffee\"),\"Category\"]=\"Condiments\""
   ]
  },
  {
   "cell_type": "code",
   "execution_count": null,
   "metadata": {
    "id": "2Vvd_0If90lP"
   },
   "outputs": [],
   "source": [
    "df.loc[df[\"itemDescription\"].str.contains(\"dressing\"),\"Category\"]=\"Condiments\"\n",
    "df.loc[df[\"itemDescription\"].str.contains(\"pork\"),\"Category\"]=\"Meat\"\n",
    "df.loc[df[\"itemDescription\"].str.contains(\"meat\"),\"Category\"]=\"Meat\"\n",
    "df.loc[df[\"itemDescription\"].str.contains(\"beverage\"),\"Category\"]=\"Beverages\"\n",
    "df.loc[df[\"itemDescription\"].str.contains(\"beer\"),\"Category\"]=\"Beverages\"\n",
    "df.loc[df[\"itemDescription\"].str.contains(\"dessert\"),\"Category\"]=\"Sweets\"\n",
    "df.loc[df[\"itemDescription\"].str.contains(\"sweet\"),\"Category\"]=\"Sweets\"\n",
    "df.loc[df[\"itemDescription\"].str.contains(\"waffle\"),\"Category\"]=\"Sweets\"\n",
    "df.loc[df[\"itemDescription\"].str.contains(\"cream\"),\"Category\"]=\"Sweets\"\n",
    "df.loc[df[\"itemDescription\"].str.contains(\"product\"),\"Category\"]=\"Misc products\"\n",
    "df.loc[df[\"itemDescription\"].str.contains(\"bag\"),\"Category\"]=\"Kitchen supplies\""
   ]
  },
  {
   "cell_type": "code",
   "execution_count": null,
   "metadata": {
    "id": "w_DQXAi1APh_"
   },
   "outputs": [],
   "source": [
    "df.loc[df[\"itemDescription\"].str.contains(\"specialty bar\"),\"Category\"]=\"Sweets\"\n",
    "df.loc[df[\"itemDescription\"].str.contains(\"bread\"),\"Category\"]=\"Bakery\"\n",
    "df.loc[df[\"itemDescription\"].str.contains(\"curd\"),\"Category\"]=\"Dairy\"\n",
    "df.loc[df[\"itemDescription\"].str.contains(\"water\"),\"Category\"]=\"Beverages\"\n",
    "df.loc[df[\"itemDescription\"].str.contains(\"wine\"),\"Category\"]=\"Beverages\"\n",
    "df.loc[df[\"itemDescription\"].str.contains(\"pastry\"),\"Category\"]=\"Sweets\"\n",
    "df.loc[df[\"itemDescription\"].str.contains(\"ham\"),\"Category\"]=\"Meat\"\n",
    "df.loc[df[\"itemDescription\"].str.contains(\"turkey\"),\"Category\"]=\"Meat\"\n",
    "df.loc[df[\"itemDescription\"].str.contains(\"soda\"),\"Category\"]=\"Beverages\"\n",
    "df.loc[df[\"itemDescription\"].str.contains(\"liquor\"),\"Category\"]=\"Beverages\"\n",
    "df.loc[df[\"itemDescription\"].str.contains(\"brandy\"),\"Category\"]=\"Beverages\"\n",
    "df.loc[df[\"itemDescription\"].str.contains(\"whisky\"),\"Category\"]=\"Beverages\"\n",
    "df.loc[df[\"itemDescription\"].str.contains(\"flour\"),\"Category\"]=\"Kitchen supplies\"\n",
    "df.loc[df[\"itemDescription\"].str.contains(\"sugar\"),\"Category\"]=\"Kitchen supplies\"\n",
    "df.loc[df[\"itemDescription\"].str.contains(\"frozen meals\"),\"Category\"]=\"Kitchen supplies\"\n",
    "df.loc[df[\"itemDescription\"].str.contains(\"herbs\"),\"Category\"]=\"Condiments\""
   ]
  },
  {
   "cell_type": "code",
   "execution_count": null,
   "metadata": {
    "id": "tv_0LSv4DJIo"
   },
   "outputs": [],
   "source": [
    "df.loc[df[\"itemDescription\"].str.contains(\"detergent\"),\"Category\"]=\"Cleaning supplies\"\n",
    "df.loc[df[\"itemDescription\"].str.contains(\"newspaper\"),\"Category\"]=\"Misc products\"\n",
    "df.loc[df[\"itemDescription\"].str.contains(\"pasta\"),\"Category\"]=\"Kitchen supplies\"\n",
    "df.loc[df[\"itemDescription\"].str.contains(\"onions\"),\"Category\"]=\"Vegetables\""
   ]
  },
  {
   "cell_type": "code",
   "execution_count": null,
   "metadata": {
    "id": "wawhwRGNDsei"
   },
   "outputs": [],
   "source": [
    "df.loc[df[\"itemDescription\"].str.contains(\"grapes\"),\"Category\"]=\"Fruits\"\n",
    "df.loc[df[\"itemDescription\"].str.contains(\"hair spray\"),\"Category\"]=\"Care\"\n",
    "df.loc[df[\"itemDescription\"].str.contains(\"salt\"),\"Category\"]=\"Condiments\"\n",
    "df.loc[df[\"itemDescription\"].str.contains(\"margarine\"),\"Category\"]=\"Condiments\"\n",
    "df.loc[df[\"itemDescription\"].str.contains(\"oil\"),\"Category\"]=\"Kitchen supplies\"\n",
    "df.loc[df[\"itemDescription\"].str.contains(\"baking powder\"),\"Category\"]=\"Condiments\"\n",
    "df.loc[df[\"itemDescription\"].str.contains(\"snacks\"),\"Category\"]=\"Misc products\"\n",
    "df.loc[df[\"itemDescription\"].str.contains(\"rum\"),\"Category\"]=\"Beverages\"\n",
    "df.loc[df[\"itemDescription\"].str.contains(\"eggs\"),\"Category\"]=\"Bakery\"\n",
    "df.loc[df[\"itemDescription\"].str.contains(\"male cosmetics\"),\"Category\"]=\"Care\"\n",
    "df.loc[df[\"itemDescription\"].str.contains(\"remover\"),\"Category\"]=\"Care\"\n",
    "df.loc[df[\"itemDescription\"].str.contains(\"powder\"),\"Category\"]=\"Condiments\"\n",
    "df.loc[df[\"itemDescription\"].str.contains(\"vinegar\"),\"Category\"]=\"Kitchen supplies\"\n",
    "df.loc[df[\"itemDescription\"].str.contains(\"chewing gum\"),\"Category\"]=\"Care\""
   ]
  },
  {
   "cell_type": "code",
   "execution_count": null,
   "metadata": {
    "id": "eJyYTHU_KPjF"
   },
   "outputs": [],
   "source": [
    "df.loc[df[\"itemDescription\"].str.contains(\"popcorn\"),\"Category\"]=\"Food\"\n",
    "df.loc[df[\"itemDescription\"].str.contains(\"photo\"),\"Category\"]=\"Misc products\"\n",
    "df.loc[df[\"itemDescription\"].str.contains(\"soap\"),\"Category\"]=\"Care\"\n",
    "df.loc[df[\"itemDescription\"].str.contains(\"vinegar\"),\"Category\"]=\"Beverages\"\n",
    "df.loc[df[\"itemDescription\"].str.contains(\"syrup\"),\"Category\"]=\"Beverages\"\n",
    "df.loc[df[\"itemDescription\"].str.contains(\"rubbing alcohol\"),\"Category\"]=\"Care\"\n",
    "df.loc[df[\"itemDescription\"].str.contains(\"Kitchen utensil\"),\"Category\"]=\"Kitchen supplies\""
   ]
  },
  {
   "cell_type": "code",
   "execution_count": null,
   "metadata": {
    "id": "7j8DuIEkK9Qb"
   },
   "outputs": [],
   "source": [
    "df.loc[df[\"itemDescription\"].str.contains(\"decalcifier\"),\"Category\"] = \"Misc products\"\n",
    "df.loc[df[\"itemDescription\"].str.contains(\"hygiene\"),\"Category\"]=\"Care\"\n",
    "df.loc[df[\"itemDescription\"].str.contains(\"gum\"),\"Category\"]=\"Care\"\n",
    "df.loc[df[\"itemDescription\"].str.contains(\"nuts\"),\"Category\"]=\"Food\"\n",
    "df.loc[df[\"itemDescription\"].str.contains(\"light bulbs\"),\"Category\"]=\"Misc products\"\n",
    "df.loc[df[\"itemDescription\"].str.contains(\"cookware\"),\"Category\"]=\"Kitchen supplies\"\n",
    "df.loc[df[\"itemDescription\"].str.contains(\"liver\"),\"Category\"]=\"Meat\"\n",
    "df.loc[df[\"itemDescription\"].str.contains(\"baby\"),\"Category\"]=\"Care\""
   ]
  },
  {
   "cell_type": "code",
   "execution_count": null,
   "metadata": {
    "id": "sFx9o7G3OToa"
   },
   "outputs": [],
   "source": [
    "df.loc[df[\"itemDescription\"].str.contains(\"prosecco\"),\"Category\"]=\"Beverages\"\n",
    "df.loc[df[\"itemDescription\"].str.contains(\"zwieback\"),\"Category\"]=\"Bakery\"\n",
    "df.loc[df[\"itemDescription\"].str.contains(\"spices\"),\"Category\"]=\"Condiments\"\n",
    "df.loc[df[\"itemDescription\"].str.contains(\"ready soups\"),\"Category\"]= \"Food\"\n",
    "df.loc[df[\"itemDescription\"].str.contains(\"rice\"),\"Category\"]=\"Food\"\n",
    "df.loc[df[\"itemDescription\"].str.contains(\"tea\"),\"Category\"]=\"Condiments\"\n",
    "df.loc[df[\"itemDescription\"].str.contains(\"flower\"),\"Category\"]=\"Condiments\""
   ]
  },
  {
   "cell_type": "code",
   "execution_count": null,
   "metadata": {
    "id": "xRaQ6n3I0E7i"
   },
   "outputs": [],
   "source": [
    "df.loc[df[\"itemDescription\"].str.contains(\"napkins\"),\"Category\"]=\"Misc products\"\n",
    "df.loc[df[\"itemDescription\"].str.contains(\"sauces\"),\"Category\"]=\"Condiments\"\n",
    "df.loc[df[\"itemDescription\"].str.contains(\"mustard\"),\"Category\"]=\"Condiments\"\n",
    "df.loc[df[\"itemDescription\"].str.contains(\"soups\"),\"Category\"]=\"Food\"\n",
    "df.loc[df[\"itemDescription\"].str.contains(\"specialty fat\"),\"Category\"]=\"Meat\"\n",
    "df.loc[df[\"itemDescription\"].str.contains(\"mayonnaise\"),\"Category\"]=\"Condiments\"\n",
    "df.loc[df[\"itemDescription\"].str.contains(\"ketchup\"),\"Category\"]=\"Condiments\"\n",
    "df.loc[df[\"itemDescription\"].str.contains(\"kitchen towel\"),\"Category\"]=\"Kitchen supplies\"\n",
    "df.loc[df[\"itemDescription\"].str.contains(\"cereals\"),\"Category\"]=\"Food\"\n",
    "df.loc[df[\"itemDescription\"].str.contains(\"dishes\"),\"Category\"]=\"Kitchen supplies\"\n",
    "df.loc[df[\"itemDescription\"].str.contains(\"nut snack\"),\"Category\"]=\"Food\"\n",
    "df.loc[df[\"itemDescription\"].str.contains(\"kitchen utensil\"),\"Category\"]=\"Kitchen supplies\""
   ]
  },
  {
   "cell_type": "code",
   "execution_count": null,
   "metadata": {
    "id": "Q8fO1WZX01_1"
   },
   "outputs": [],
   "source": [
    "df.loc[df[\"itemDescription\"].str.contains(\"jam\"),\"Category\"]=\"Food\"\n",
    "df.loc[df[\"itemDescription\"].str.contains(\"softener\"),\"Category\"]=\"Cleaning supplies\"\n",
    "df.loc[df[\"itemDescription\"].str.contains(\"honey\"),\"Category\"]=\"Condiments\"\n",
    "df.loc[df[\"itemDescription\"].str.contains(\"candles\"),\"Category\"]=\"Misc products\"\n",
    "df.loc[df[\"itemDescription\"].str.contains(\"tidbits\"),\"Category\"]=\"Food\"\n",
    "df.loc[df[\"itemDescription\"].str.contains(\"liqueur\"),\"Category\"]=\"Beverages\"\n",
    "df.loc[df[\"itemDescription\"].str.contains(\"cocoa\"),\"Category\"]=\"Beverages\""
   ]
  },
  {
   "cell_type": "code",
   "execution_count": null,
   "metadata": {
    "id": "78IZrBgC44XZ"
   },
   "outputs": [],
   "source": [
    "df_misssing = df[df['Category']=='']"
   ]
  },
  {
   "cell_type": "code",
   "execution_count": null,
   "metadata": {
    "colab": {
     "base_uri": "https://localhost:8080/"
    },
    "id": "Zpacl6sr6z9W",
    "outputId": "fcb7695d-84ea-45f1-fbe1-429235b0a39e"
   },
   "outputs": [],
   "source": [
    "df_misssing['itemDescription'].unique()"
   ]
  },
  {
   "cell_type": "code",
   "execution_count": null,
   "metadata": {
    "colab": {
     "base_uri": "https://localhost:8080/"
    },
    "id": "YZTN8hOy-nrd",
    "outputId": "6d5b7e36-89f4-4151-828c-ecfbaf946e17"
   },
   "outputs": [],
   "source": [
    "(df['Category'].unique())"
   ]
  },
  {
   "cell_type": "markdown",
   "metadata": {
    "id": "v-oXdClz5dwn"
   },
   "source": [
    "### **Exploratory Data Analysis**"
   ]
  },
  {
   "cell_type": "markdown",
   "metadata": {
    "id": "WowHCsz86cjn"
   },
   "source": [
    "#### 1) Comparing quantites for each category for 2014 vs 2015?"
   ]
  },
  {
   "cell_type": "code",
   "execution_count": null,
   "metadata": {
    "colab": {
     "base_uri": "https://localhost:8080/"
    },
    "id": "HarGZ-QtLfq4",
    "outputId": "b528f465-8d70-4500-e280-b3d977fb61db"
   },
   "outputs": [],
   "source": [
    "type(df['Date'])"
   ]
  },
  {
   "cell_type": "code",
   "execution_count": null,
   "metadata": {
    "colab": {
     "base_uri": "https://localhost:8080/",
     "height": 35
    },
    "id": "Zvj-W9Po0_dk",
    "outputId": "53f853f9-84b4-4b5f-f305-cbf88d7f7920"
   },
   "outputs": [],
   "source": [
    "df['Date'].max()"
   ]
  },
  {
   "cell_type": "code",
   "execution_count": null,
   "metadata": {
    "colab": {
     "base_uri": "https://localhost:8080/",
     "height": 35
    },
    "id": "jrVo6cRt1BxL",
    "outputId": "31c84827-7c9e-48c8-a502-8fe00f28931f"
   },
   "outputs": [],
   "source": [
    "df['Date'].min()"
   ]
  },
  {
   "cell_type": "code",
   "execution_count": null,
   "metadata": {
    "id": "vQpV7NEP3hSj"
   },
   "outputs": [],
   "source": [
    "df['Date'] = pd.to_datetime(df['Date'])"
   ]
  },
  {
   "cell_type": "code",
   "execution_count": null,
   "metadata": {
    "id": "jWLCfi3p4OhA"
   },
   "outputs": [],
   "source": [
    "df['Year'] = df['Date'].dt.year "
   ]
  },
  {
   "cell_type": "code",
   "execution_count": null,
   "metadata": {
    "colab": {
     "base_uri": "https://localhost:8080/",
     "height": 638
    },
    "id": "C1N8ydu04Olo",
    "outputId": "cb908799-9cee-463c-f338-42f280519f2b"
   },
   "outputs": [],
   "source": [
    "plt.figure(figsize=(15,10))\n",
    "sns.countplot(df['Year'], hue = df['Category'])\n",
    "df['Year'].value_counts()\n",
    "plt.title(\"Comparison between 2014 and 2015 with respect to categories \", fontweight = 'bold', fontsize = 12)"
   ]
  },
  {
   "cell_type": "markdown",
   "metadata": {
    "id": "kkZJLyp8z3pp"
   },
   "source": [
    "Inferences :\n",
    "- The yearly demand for each category is illustrated in the figure above , with the graphs indicating that meat has the highest demand in both the years while, and dairy has the second highest demand in 2015 and Beverages in 2014."
   ]
  },
  {
   "cell_type": "markdown",
   "metadata": {
    "id": "vvmRWebphfAn"
   },
   "source": [
    "#### 2)Frequency of the categories in terms of items sold\n",
    "\n"
   ]
  },
  {
   "cell_type": "code",
   "execution_count": null,
   "metadata": {
    "colab": {
     "base_uri": "https://localhost:8080/",
     "height": 1000
    },
    "id": "F70mr-muxMpq",
    "outputId": "ad4a77a3-f237-48c5-aee2-48683520f40b"
   },
   "outputs": [],
   "source": [
    "Frequency_ofitems = df.groupby(pd.Grouper(key = 'Category')).size().reset_index(name = 'count')\n",
    "fig = px.treemap(Frequency_ofitems, path = ['Category'], values = 'count')\n",
    "fig.update_layout(\n",
    "    title_text = 'Frequency of the Categories(Items) Sold',\n",
    "    title_x = 0.5, title_font = dict(size = 15),\n",
    "    height = 1000\n",
    ")\n",
    "fig.update_traces(textinfo = \"label+value\")\n",
    "fig.show()"
   ]
  },
  {
   "cell_type": "markdown",
   "metadata": {
    "id": "9nPPAUmT1mqE"
   },
   "source": [
    "Inferences :\n",
    "- The graph above shows that the \"Dairy\" category has the highest frequency of items sold, followed by \"Vegetables.\" \n",
    "- In contrast, the categories of \"Cleaning Supplies\" and \"Plants\" are in the region with the least frequencies."
   ]
  },
  {
   "cell_type": "markdown",
   "metadata": {
    "id": "HbQwhbc-qCQP"
   },
   "source": [
    "3) Variation in demand of different categories over months\n"
   ]
  },
  {
   "cell_type": "code",
   "execution_count": null,
   "metadata": {
    "colab": {
     "base_uri": "https://localhost:8080/",
     "height": 423
    },
    "id": "Hu0CJ5vTH2m5",
    "outputId": "0444063d-85ec-474e-8e69-4ff75501326b"
   },
   "outputs": [],
   "source": [
    "df['Month'] = df['Date'].dt.month\n",
    "df"
   ]
  },
  {
   "cell_type": "code",
   "execution_count": null,
   "metadata": {
    "id": "V8NfRh1ArDkw"
   },
   "outputs": [],
   "source": [
    "df_temp = pd.DataFrame(df.groupby(['Month','Category'])['Category'].count())\n"
   ]
  },
  {
   "cell_type": "code",
   "execution_count": null,
   "metadata": {
    "colab": {
     "base_uri": "https://localhost:8080/",
     "height": 423
    },
    "id": "eH_o4kCnrPhZ",
    "outputId": "15f2f35e-72e4-4b8c-8053-ae481b3057d9"
   },
   "outputs": [],
   "source": [
    "df_temp.rename(columns = {'Category': 'count'},inplace = True)\n",
    "df_temp.reset_index(drop = False,inplace = True)\n",
    "\n",
    "df_temp"
   ]
  },
  {
   "cell_type": "code",
   "execution_count": null,
   "metadata": {
    "colab": {
     "base_uri": "https://localhost:8080/",
     "height": 621
    },
    "id": "bbA_G4JKH2qk",
    "outputId": "8fba2066-36be-489a-e290-a2179056fbd6"
   },
   "outputs": [],
   "source": [
    "categories = set(df_temp['Category'])\n",
    "\n",
    "plt.figure(figsize=(15,10))\n",
    "for category in categories:\n",
    "     selected_data = df_temp.loc[df_temp['Category'] == category]\n",
    "     plt.plot(selected_data['Month'], selected_data['count'], label = category)\n",
    "plt.xlabel('Month')\n",
    "plt.ylabel('count')\n",
    "plt.legend()\n",
    "plt.title('Monthly count of demand for each category')\n",
    "plt.show()"
   ]
  },
  {
   "cell_type": "markdown",
   "metadata": {
    "id": "j2scQ9oN4YeN"
   },
   "source": [
    "Inferences : \n",
    "- The above graph focuses on analyzing monthly trends in demand for each country. \n",
    "- Observations suggest a significant variation in the range of counts for each category. \n"
   ]
  },
  {
   "cell_type": "markdown",
   "metadata": {
    "id": "jq-L2rWk1LTk"
   },
   "source": [
    "4) Variation in demand of different categories over Week\n"
   ]
  },
  {
   "cell_type": "code",
   "execution_count": null,
   "metadata": {
    "colab": {
     "base_uri": "https://localhost:8080/",
     "height": 423
    },
    "id": "DWpleyHXH2tF",
    "outputId": "9e9cea25-8ab0-46dc-d91b-df9971e351ce"
   },
   "outputs": [],
   "source": [
    "df['Week'] = df['Date'].dt.week\n",
    "df"
   ]
  },
  {
   "cell_type": "code",
   "execution_count": null,
   "metadata": {
    "colab": {
     "base_uri": "https://localhost:8080/",
     "height": 423
    },
    "id": "9cTWzsUj1RWk",
    "outputId": "20208ed0-2b59-43a8-a522-177e99066562"
   },
   "outputs": [],
   "source": [
    "df_temp_2014 = df.loc[df['Year'] == 2014]\n",
    "df_temp_2014 = pd.DataFrame(df_temp_2014.groupby(['Week','Category'])['Category'].count())\n",
    "df_temp_2014.rename(columns = {'Category': 'count'},inplace = True)\n",
    "df_temp_2014.reset_index(drop = False,inplace = True)\n",
    "\n",
    "df_temp_2014"
   ]
  },
  {
   "cell_type": "code",
   "execution_count": null,
   "metadata": {
    "colab": {
     "base_uri": "https://localhost:8080/",
     "height": 621
    },
    "id": "6fM2lq-m1e_9",
    "outputId": "7cf16bb5-40b6-4c9e-deb5-d1f3d642c479"
   },
   "outputs": [],
   "source": [
    "categories = set(df_temp_2014['Category'])\n",
    "\n",
    "plt.figure(figsize=(15,10))\n",
    "for category in categories:\n",
    "     selected_data = df_temp_2014.loc[df_temp_2014['Category'] == category]\n",
    "     plt.plot(selected_data['Week'], selected_data['count'], label = category)\n",
    "plt.xlabel('Weekly')\n",
    "plt.ylabel('count')\n",
    "plt.legend()\n",
    "plt.title('Weekly count of demand for each category(2014)')\n",
    "plt.show()"
   ]
  },
  {
   "cell_type": "code",
   "execution_count": null,
   "metadata": {
    "colab": {
     "base_uri": "https://localhost:8080/",
     "height": 423
    },
    "id": "wXslJqgX1g6M",
    "outputId": "b20ac349-6bd7-44ee-c108-dab29796f846"
   },
   "outputs": [],
   "source": [
    "df_temp_2015 = df.loc[df['Year'] == 2015]\n",
    "df_temp_2015 = pd.DataFrame(df_temp_2015.groupby(['Week','Category'])['Category'].count())\n",
    "df_temp_2015.rename(columns = {'Category': 'count'},inplace = True)\n",
    "df_temp_2015.reset_index(drop = False,inplace = True)\n",
    "\n",
    "df_temp_2015"
   ]
  },
  {
   "cell_type": "code",
   "execution_count": null,
   "metadata": {
    "colab": {
     "base_uri": "https://localhost:8080/",
     "height": 621
    },
    "id": "ca4vTm0c2cnd",
    "outputId": "05ff9bce-9d87-4a1e-c3a6-c138f8c838e4"
   },
   "outputs": [],
   "source": [
    "categories = set(df_temp_2015['Category'])\n",
    "\n",
    "plt.figure(figsize=(15,10))\n",
    "for category in categories:\n",
    "     selected_data = df_temp_2015.loc[df_temp_2015['Category'] == category]\n",
    "     plt.plot(selected_data['Week'], selected_data['count'], label = category)\n",
    "plt.xlabel('Weekly')\n",
    "plt.ylabel('count')\n",
    "plt.legend()\n",
    "plt.title('Weekly count of demand for each category(2015)')\n",
    "plt.show()"
   ]
  },
  {
   "cell_type": "markdown",
   "metadata": {
    "id": "fbQCGgHk5LS3"
   },
   "source": [
    "Inferences:\n",
    "- The above figures shows a more in-depth analysis of the demand for each category, plotted over two years. \n",
    "- The first Figure illustrates the demands for the year 2014, while the second represents the demands for the year 2015. \n",
    "- It can be observed that some categories overlap, and we observe similar demand trends for these categories."
   ]
  },
  {
   "cell_type": "markdown",
   "metadata": {
    "id": "tVO2lTch5W0q"
   },
   "source": [
    "4) Variation in demand of different categories on daily basis"
   ]
  },
  {
   "cell_type": "code",
   "execution_count": null,
   "metadata": {
    "id": "tuj1pyQuNl_u"
   },
   "outputs": [],
   "source": [
    "df.set_index('Date',inplace=True)"
   ]
  },
  {
   "cell_type": "code",
   "execution_count": null,
   "metadata": {
    "colab": {
     "base_uri": "https://localhost:8080/",
     "height": 370
    },
    "id": "29jiAVvFNmFw",
    "outputId": "e97dd6a5-d907-4bd0-f116-fbdc6537dc73"
   },
   "outputs": [],
   "source": [
    "df.resample('D')[['itemDescription']].count().plot(kind='line',figsize=(15,5),legend=None)\n",
    "plt.title('Daily Sales- 2014 to 2015',fontsize=20)\n",
    "plt.xlabel('Date',fontsize=14)\n",
    "plt.ylabel('Daily Sales',fontsize=14)\n",
    "plt.show()"
   ]
  },
  {
   "cell_type": "markdown",
   "metadata": {
    "id": "YLVnoy2Q5pn-"
   },
   "source": [
    "Inferences:\n",
    "- The graph above indicates a consistent pattern in daily sales from 2014 to 2015, with the exception of a dip in January 2015. \n",
    "- The cause of this dip is uncertain and may be attributed to various factors such as inflation, among others."
   ]
  },
  {
   "cell_type": "markdown",
   "metadata": {
    "id": "70l2vzTo3kFY"
   },
   "source": [
    "Results :\n",
    "- In all the above graphs and eda, where we are trying to look into variation in demand of different categories over months, weeks and on day to daily basis. \n",
    "- It can observed that there are few factors and categories which have a significant amount of dominance on the whole patterns and trends\n"
   ]
  },
  {
   "cell_type": "markdown",
   "metadata": {
    "id": "qBDGVrC24JJ7"
   },
   "source": [
    "### Folowing are the research and design questions which are the further steps and will be the focus on the next part of the study :\n",
    "\n",
    "\n",
    "\n",
    "1. Are there seasonal or trend-based patterns in customers' purchasing behavior \n",
    "that can be identified and accounted for in a forecasting model?\n",
    "2. What is the most appropriate forecasting method for this type of data (e.g. time series analysis, regression analysis, machine learning algorithms), and how can its accuracy be evaluated?\n",
    "3. How can data preprocessing techniques such as feature scaling, outlier detection, or missing value imputation improve the accuracy of a forecasting model?\n",
    "4. What are the trade-offs between a simpler, more interpretable forecasting model and a more complex, potentially more accurate model, and how can these trade-offs be optimized for the specific business problem at hand?\n",
    "5. How frequently should the forecasting model be updated to account for changes in customers' purchasing behavior or external factors that may impact demand?\n",
    "6. Can clustering or segmentation techniques be used to group customers based on similar purchasing behavior and improve the accuracy of the forecasting model for each group?\n",
    "7. How can uncertainty in the forecasting results be quantified and communicated to stakeholders, and what is the best approach for making decisions based on uncertain forecasts?\n",
    "8. How can the forecasting model be integrated with other business processes such as inventory management, supply chain planning, or marketing campaigns to optimize business performance?\n"
   ]
  },
  {
   "cell_type": "code",
   "execution_count": null,
   "metadata": {
    "id": "HE8OPVPu66K-"
   },
   "outputs": [],
   "source": []
  }
 ],
 "metadata": {
  "colab": {
   "provenance": []
  },
  "kernelspec": {
   "display_name": "Python 3 (ipykernel)",
   "language": "python",
   "name": "python3"
  },
  "language_info": {
   "codemirror_mode": {
    "name": "ipython",
    "version": 3
   },
   "file_extension": ".py",
   "mimetype": "text/x-python",
   "name": "python",
   "nbconvert_exporter": "python",
   "pygments_lexer": "ipython3",
   "version": "3.9.12"
  }
 },
 "nbformat": 4,
 "nbformat_minor": 1
}
